{
  "nbformat": 4,
  "nbformat_minor": 0,
  "metadata": {
    "colab": {
      "provenance": [],
      "authorship_tag": "ABX9TyOabNNowqsSP/OB/0vvfPmD",
      "include_colab_link": true
    },
    "kernelspec": {
      "name": "python3",
      "display_name": "Python 3"
    },
    "language_info": {
      "name": "python"
    }
  },
  "cells": [
    {
      "cell_type": "markdown",
      "metadata": {
        "id": "view-in-github",
        "colab_type": "text"
      },
      "source": [
        "<a href=\"https://colab.research.google.com/github/Amelbnmbh/Introduction-to-Big-Data-with-Spark-and-Hadoop/blob/main/Getting_Started_with_PySpark_and_Pandas.ipynb\" target=\"_parent\"><img src=\"https://colab.research.google.com/assets/colab-badge.svg\" alt=\"Open In Colab\"/></a>"
      ]
    },
    {
      "cell_type": "markdown",
      "source": [
        "# Getting Started with PySpark and Pandas\n",
        "\n",
        "PySpark is the Python API for Apache Spark, a distributed computing system designed for handling large-scale data processing. Its ability to perform computations across multiple nodes makes it an ideal choice for Big Data scenarios, where data sets can reach terabytes or even petabytes in size. PySpark allows data scientists and analysts to harness the power of distributed computing, scaling up their workflows and processing capabilities significantly.\n",
        "\n",
        "In contrast, Pandas is a powerful library tailored for data manipulation and analysis in Python, primarily used for handling structured data. It provides rich functionality for data cleaning, transformation, aggregation, and visualization, making it particularly suited for smaller data sets typically fitting into memory. Pandas excels at operations requiring quick turnaround times for data analysis and exploration, facilitating tasks such as data wrangling and exploratory data analysis.\n",
        "\n",
        "To illustrate the strengths of both PySpark and Pandas, we will utilize a sample COVID-19 data set containing daily cases, deaths, and vaccinations across various continents.\n",
        "\n",
        "## Objectives\n",
        "\n",
        "- Understand PySpark and Pandas: Explain the core functionalities and use cases of PySpark for big data processing and Pandas for data manipulation.\n",
        "\n",
        "- Set up the environment: Install and configure PySpark and Pandas to work together in a Python environment.\n",
        "\n",
        "- Load and explore data: Import data into Pandas and PySpark DataFrames and perform basic data exploration.\n",
        "\n",
        "- Convert between DataFrames: Convert a Pandas DataFrame to a Spark DataFrame for distributed processing.\n",
        "\n",
        "- Perform data manipulation: Create new columns, filter data, and perform aggregations using PySpark.\n",
        "\n",
        "- Utilize SQL queries: Use Spark SQL for querying data and leveraging user-defined functions (UDFs).\n",
        "\n",
        "## 1. PySpark overview\n",
        "### Overview\n",
        "\n",
        "PySpark is the Python API for Apache Spark, designed for large-scale data processing and analysis. It offers tools for working with RDDs and DataFrames, enabling efficient, fault-tolerant distributed computing.\n",
        "\n",
        "### Key features\n",
        "- **Distributed computing:** Handles data across multiple nodes in a cluster.\n",
        "- **High performance:** Outperforms traditional frameworks in speed.\n",
        "- **Big data handling:** Manages data sets larger than a single machine's memory.\n",
        "- **Python integration:** Compatible with Python libraries like Pandas and NumPy.\n",
        "\n",
        "### Use cases\n",
        "- **Large-scale data processing:** Ideal for processing large volumes of data that exceed the capacity of a single machine.\n",
        "- **Data analysis:** Useful for complex data manipulations and analysis using distributed computing.\n",
        "\n",
        "### Strengths\n",
        "- High-speed data processing.\n",
        "- Fault-tolerant and scalable.\n",
        "\n",
        "### Limitations\n",
        "- Complex setup and configuration.\n",
        "- Steeper learning curve compared to some data processing tools.\n",
        "\n",
        "## 2. Understanding Pandas\n",
        "\n",
        "### Overview\n",
        "Pandas is a Python library designed for data manipulation and analysis. It provides two primary data structures: Series and DataFrame, which facilitate handling and organizing structured data.\n",
        "\n",
        "### Key features\n",
        "- **Data structures:** Series for one-dimensional data and DataFrame for two-dimensional data.\n",
        "- **Data I/O:** Reads and writes data in various formats such as CSV, Excel, and SQL.\n",
        "- **Data cleaning:** Functions for handling missing or duplicate data.\n",
        "- **Data analysis:** Includes statistical functions for detailed data analysis.\n",
        "\n",
        "### Use cases\n",
        "- **Data manipulation:** Efficient handling of structured data.\n",
        "- **Data analysis:** Comprehensive analysis and transformation of data sets.\n",
        "\n",
        "### Strengths\n",
        "- User-friendly API for data manipulation.\n",
        "- Extensive support for various data formats.\n",
        "\n",
        "### Limitations\n",
        "- Limited scalability for extremely large datasets compared to distributed frameworks.\n",
        "\n",
        "## 3. Setting up the environment\n",
        "### Installation\n",
        "- First, let's install the necessary libraries if they are not already installed.\n",
        "\n",
        "\n"
      ],
      "metadata": {
        "id": "lX1j-5LND0B_"
      }
    },
    {
      "cell_type": "code",
      "source": [
        "!pip install pyspark"
      ],
      "metadata": {
        "colab": {
          "base_uri": "https://localhost:8080/"
        },
        "id": "I2WrVFOiGIPY",
        "outputId": "5a19aa4a-abd9-4f76-f594-c97e5545c7c0"
      },
      "execution_count": 1,
      "outputs": [
        {
          "output_type": "stream",
          "name": "stdout",
          "text": [
            "Requirement already satisfied: pyspark in /usr/local/lib/python3.10/dist-packages (3.5.3)\n",
            "Requirement already satisfied: py4j==0.10.9.7 in /usr/local/lib/python3.10/dist-packages (from pyspark) (0.10.9.7)\n"
          ]
        }
      ]
    },
    {
      "cell_type": "code",
      "source": [
        "!pip install findspark"
      ],
      "metadata": {
        "colab": {
          "base_uri": "https://localhost:8080/"
        },
        "id": "V0bf5eu-GdYq",
        "outputId": "92376fb2-4ef5-42ce-cd90-1b1e3fcdb695"
      },
      "execution_count": 2,
      "outputs": [
        {
          "output_type": "stream",
          "name": "stdout",
          "text": [
            "Collecting findspark\n",
            "  Downloading findspark-2.0.1-py2.py3-none-any.whl.metadata (352 bytes)\n",
            "Downloading findspark-2.0.1-py2.py3-none-any.whl (4.4 kB)\n",
            "Installing collected packages: findspark\n",
            "Successfully installed findspark-2.0.1\n"
          ]
        }
      ]
    },
    {
      "cell_type": "code",
      "source": [
        "!pip install pandas"
      ],
      "metadata": {
        "colab": {
          "base_uri": "https://localhost:8080/"
        },
        "id": "f3ampMCRGe-t",
        "outputId": "0d36d466-2dec-41fb-c57a-956f7439785d"
      },
      "execution_count": 3,
      "outputs": [
        {
          "output_type": "stream",
          "name": "stdout",
          "text": [
            "Requirement already satisfied: pandas in /usr/local/lib/python3.10/dist-packages (2.2.2)\n",
            "Requirement already satisfied: numpy>=1.22.4 in /usr/local/lib/python3.10/dist-packages (from pandas) (1.26.4)\n",
            "Requirement already satisfied: python-dateutil>=2.8.2 in /usr/local/lib/python3.10/dist-packages (from pandas) (2.8.2)\n",
            "Requirement already satisfied: pytz>=2020.1 in /usr/local/lib/python3.10/dist-packages (from pandas) (2024.2)\n",
            "Requirement already satisfied: tzdata>=2022.7 in /usr/local/lib/python3.10/dist-packages (from pandas) (2024.2)\n",
            "Requirement already satisfied: six>=1.5 in /usr/local/lib/python3.10/dist-packages (from python-dateutil>=2.8.2->pandas) (1.16.0)\n"
          ]
        }
      ]
    },
    {
      "cell_type": "markdown",
      "source": [
        "## 4. Initializing a Spark session\n",
        "\n",
        "A Spark session is crucial for working with PySpark. It enables DataFrame creation, data loading, and various operations.\n",
        "\n",
        "### Importing libraries\n",
        "\n",
        "- `findspark` is used to locate the Spark installation.\n",
        "- `pandas` is imported for data manipulation.\n",
        "\n",
        "### Creating a Spark session\n",
        "- `SparkSession.builder.appName(\"COVID-19 Data Analysis\").getOrCreate()` initializes a Spark session with the specified application name.\n",
        "\n",
        "### Checking Spark session\n",
        "- The code checks if the Spark session is active and prints an appropriate message.\n",
        "\n"
      ],
      "metadata": {
        "id": "gm0QLDNPGiEX"
      }
    },
    {
      "cell_type": "code",
      "source": [
        "import findspark  # This helps us find and use Apache Spark\n",
        "findspark.init()  # Initialize findspark to locate Spark\n",
        "from pyspark.sql import SparkSession\n",
        "from pyspark.sql.types import StructType, StructField, StringType, IntegerType, LongType, DateType\n",
        "import pandas as pd\n",
        "# Initialize a Spark Session\n",
        "spark = SparkSession \\\n",
        "    .builder \\\n",
        "    .appName(\"COVID-19 Data Analysis\") \\\n",
        "    .config(\"spark.sql.execution.arrow.pyspark.enabled\", \"true\") \\\n",
        "    .getOrCreate()\n",
        "\n",
        "# Check if the Spark Session is active\n",
        "if 'spark' in locals() and isinstance(spark, SparkSession):\n",
        "    print(\"SparkSession is active and ready to use.\")\n",
        "else:\n",
        "    print(\"SparkSession is not active. Please create a SparkSession.\")"
      ],
      "metadata": {
        "colab": {
          "base_uri": "https://localhost:8080/"
        },
        "id": "oQoeGAKYGwTd",
        "outputId": "b105b63b-f045-4522-fe48-86bbbd41247e"
      },
      "execution_count": 4,
      "outputs": [
        {
          "output_type": "stream",
          "name": "stdout",
          "text": [
            "SparkSession is active and ready to use.\n"
          ]
        }
      ]
    },
    {
      "cell_type": "markdown",
      "source": [
        "## 5. Importing data into Pandas from various sources\n",
        "\n",
        "Let's read the COVID-19 data from the provided URL.\n"
      ],
      "metadata": {
        "id": "6bfEc7q_G7xA"
      }
    },
    {
      "cell_type": "code",
      "source": [
        "# Read the COVID-19 data from the provided URL\n",
        "vaccination_data = pd.read_csv('https://cf-courses-data.s3.us.cloud-object-storage.appdomain.cloud/KpHDlIzdtR63BdTofl1mOg/owid-covid-latest.csv')"
      ],
      "metadata": {
        "id": "jBSTcPc_G-N9"
      },
      "execution_count": 5,
      "outputs": []
    },
    {
      "cell_type": "markdown",
      "source": [
        "## 6. Displaying the first five records\n",
        "\n",
        "### To retrieve and print the first five records\n",
        "\n",
        "- `vaccination_data.head()` retrieves the first five rows of the DataFrame vaccination_data.This gives us a quick look at the data contained within the data set.\n",
        "- The `print` function is used to display a message indicating what is being shown, followed by the actual data.\n",
        "\n",
        "### Selecting specific columns:\n",
        "- Let\\'s define a list called `columns_to_display`, which contains the names of the columns as : `['continent', 'total_cases', 'total_deaths', 'total_vaccinations', 'population']`.\n",
        "- By using `vaccination_data[columns_to_display].head()`, let\\'s filter the DataFrame to only show the specified columns and again display the first five records of this subset.\n",
        "- The continent column is explicitly converted to string, while the numeric columns (total cases, total deaths, total vaccinations, population) are filled with zeros for NaN values and then converted to int64 (which is compatible with LongType in Spark).\n",
        "- The use of fillna(0) ensures that NaN values do not cause type issues during the Spark DataFrame creation.\n"
      ],
      "metadata": {
        "id": "gAvbHK5sHEBv"
      }
    },
    {
      "cell_type": "code",
      "source": [
        "print(\"Displaying the first 5 records of the vaccination data:\")\n",
        "columns_to_display = ['continent', 'total_cases', 'total_deaths', 'total_vaccinations', 'population']\n",
        "# Show the first 5 records\n",
        "vaccination_data[columns_to_display].head()"
      ],
      "metadata": {
        "colab": {
          "base_uri": "https://localhost:8080/",
          "height": 224
        },
        "id": "DPHxuyCAHMi0",
        "outputId": "05c283b5-b2bf-4d6d-8d84-6db94f90ff70"
      },
      "execution_count": 7,
      "outputs": [
        {
          "output_type": "stream",
          "name": "stdout",
          "text": [
            "Displaying the first 5 records of the vaccination data:\n"
          ]
        },
        {
          "output_type": "execute_result",
          "data": {
            "text/plain": [
              "  continent  total_cases  total_deaths  total_vaccinations    population\n",
              "0      Asia     235214.0        7998.0                 NaN  4.112877e+07\n",
              "1       NaN   13145380.0      259117.0                 NaN  1.426737e+09\n",
              "2    Europe     335047.0        3605.0                 NaN  2.842318e+06\n",
              "3    Africa     272139.0        6881.0                 NaN  4.490323e+07\n",
              "4   Oceania       8359.0          34.0                 NaN  4.429500e+04"
            ],
            "text/html": [
              "\n",
              "  <div id=\"df-e2f03353-7d99-4c8d-bb79-60f75f48aaf4\" class=\"colab-df-container\">\n",
              "    <div>\n",
              "<style scoped>\n",
              "    .dataframe tbody tr th:only-of-type {\n",
              "        vertical-align: middle;\n",
              "    }\n",
              "\n",
              "    .dataframe tbody tr th {\n",
              "        vertical-align: top;\n",
              "    }\n",
              "\n",
              "    .dataframe thead th {\n",
              "        text-align: right;\n",
              "    }\n",
              "</style>\n",
              "<table border=\"1\" class=\"dataframe\">\n",
              "  <thead>\n",
              "    <tr style=\"text-align: right;\">\n",
              "      <th></th>\n",
              "      <th>continent</th>\n",
              "      <th>total_cases</th>\n",
              "      <th>total_deaths</th>\n",
              "      <th>total_vaccinations</th>\n",
              "      <th>population</th>\n",
              "    </tr>\n",
              "  </thead>\n",
              "  <tbody>\n",
              "    <tr>\n",
              "      <th>0</th>\n",
              "      <td>Asia</td>\n",
              "      <td>235214.0</td>\n",
              "      <td>7998.0</td>\n",
              "      <td>NaN</td>\n",
              "      <td>4.112877e+07</td>\n",
              "    </tr>\n",
              "    <tr>\n",
              "      <th>1</th>\n",
              "      <td>NaN</td>\n",
              "      <td>13145380.0</td>\n",
              "      <td>259117.0</td>\n",
              "      <td>NaN</td>\n",
              "      <td>1.426737e+09</td>\n",
              "    </tr>\n",
              "    <tr>\n",
              "      <th>2</th>\n",
              "      <td>Europe</td>\n",
              "      <td>335047.0</td>\n",
              "      <td>3605.0</td>\n",
              "      <td>NaN</td>\n",
              "      <td>2.842318e+06</td>\n",
              "    </tr>\n",
              "    <tr>\n",
              "      <th>3</th>\n",
              "      <td>Africa</td>\n",
              "      <td>272139.0</td>\n",
              "      <td>6881.0</td>\n",
              "      <td>NaN</td>\n",
              "      <td>4.490323e+07</td>\n",
              "    </tr>\n",
              "    <tr>\n",
              "      <th>4</th>\n",
              "      <td>Oceania</td>\n",
              "      <td>8359.0</td>\n",
              "      <td>34.0</td>\n",
              "      <td>NaN</td>\n",
              "      <td>4.429500e+04</td>\n",
              "    </tr>\n",
              "  </tbody>\n",
              "</table>\n",
              "</div>\n",
              "    <div class=\"colab-df-buttons\">\n",
              "\n",
              "  <div class=\"colab-df-container\">\n",
              "    <button class=\"colab-df-convert\" onclick=\"convertToInteractive('df-e2f03353-7d99-4c8d-bb79-60f75f48aaf4')\"\n",
              "            title=\"Convert this dataframe to an interactive table.\"\n",
              "            style=\"display:none;\">\n",
              "\n",
              "  <svg xmlns=\"http://www.w3.org/2000/svg\" height=\"24px\" viewBox=\"0 -960 960 960\">\n",
              "    <path d=\"M120-120v-720h720v720H120Zm60-500h600v-160H180v160Zm220 220h160v-160H400v160Zm0 220h160v-160H400v160ZM180-400h160v-160H180v160Zm440 0h160v-160H620v160ZM180-180h160v-160H180v160Zm440 0h160v-160H620v160Z\"/>\n",
              "  </svg>\n",
              "    </button>\n",
              "\n",
              "  <style>\n",
              "    .colab-df-container {\n",
              "      display:flex;\n",
              "      gap: 12px;\n",
              "    }\n",
              "\n",
              "    .colab-df-convert {\n",
              "      background-color: #E8F0FE;\n",
              "      border: none;\n",
              "      border-radius: 50%;\n",
              "      cursor: pointer;\n",
              "      display: none;\n",
              "      fill: #1967D2;\n",
              "      height: 32px;\n",
              "      padding: 0 0 0 0;\n",
              "      width: 32px;\n",
              "    }\n",
              "\n",
              "    .colab-df-convert:hover {\n",
              "      background-color: #E2EBFA;\n",
              "      box-shadow: 0px 1px 2px rgba(60, 64, 67, 0.3), 0px 1px 3px 1px rgba(60, 64, 67, 0.15);\n",
              "      fill: #174EA6;\n",
              "    }\n",
              "\n",
              "    .colab-df-buttons div {\n",
              "      margin-bottom: 4px;\n",
              "    }\n",
              "\n",
              "    [theme=dark] .colab-df-convert {\n",
              "      background-color: #3B4455;\n",
              "      fill: #D2E3FC;\n",
              "    }\n",
              "\n",
              "    [theme=dark] .colab-df-convert:hover {\n",
              "      background-color: #434B5C;\n",
              "      box-shadow: 0px 1px 3px 1px rgba(0, 0, 0, 0.15);\n",
              "      filter: drop-shadow(0px 1px 2px rgba(0, 0, 0, 0.3));\n",
              "      fill: #FFFFFF;\n",
              "    }\n",
              "  </style>\n",
              "\n",
              "    <script>\n",
              "      const buttonEl =\n",
              "        document.querySelector('#df-e2f03353-7d99-4c8d-bb79-60f75f48aaf4 button.colab-df-convert');\n",
              "      buttonEl.style.display =\n",
              "        google.colab.kernel.accessAllowed ? 'block' : 'none';\n",
              "\n",
              "      async function convertToInteractive(key) {\n",
              "        const element = document.querySelector('#df-e2f03353-7d99-4c8d-bb79-60f75f48aaf4');\n",
              "        const dataTable =\n",
              "          await google.colab.kernel.invokeFunction('convertToInteractive',\n",
              "                                                    [key], {});\n",
              "        if (!dataTable) return;\n",
              "\n",
              "        const docLinkHtml = 'Like what you see? Visit the ' +\n",
              "          '<a target=\"_blank\" href=https://colab.research.google.com/notebooks/data_table.ipynb>data table notebook</a>'\n",
              "          + ' to learn more about interactive tables.';\n",
              "        element.innerHTML = '';\n",
              "        dataTable['output_type'] = 'display_data';\n",
              "        await google.colab.output.renderOutput(dataTable, element);\n",
              "        const docLink = document.createElement('div');\n",
              "        docLink.innerHTML = docLinkHtml;\n",
              "        element.appendChild(docLink);\n",
              "      }\n",
              "    </script>\n",
              "  </div>\n",
              "\n",
              "\n",
              "<div id=\"df-964f61ec-ef84-4374-977c-0d9dbdf5e6ee\">\n",
              "  <button class=\"colab-df-quickchart\" onclick=\"quickchart('df-964f61ec-ef84-4374-977c-0d9dbdf5e6ee')\"\n",
              "            title=\"Suggest charts\"\n",
              "            style=\"display:none;\">\n",
              "\n",
              "<svg xmlns=\"http://www.w3.org/2000/svg\" height=\"24px\"viewBox=\"0 0 24 24\"\n",
              "     width=\"24px\">\n",
              "    <g>\n",
              "        <path d=\"M19 3H5c-1.1 0-2 .9-2 2v14c0 1.1.9 2 2 2h14c1.1 0 2-.9 2-2V5c0-1.1-.9-2-2-2zM9 17H7v-7h2v7zm4 0h-2V7h2v10zm4 0h-2v-4h2v4z\"/>\n",
              "    </g>\n",
              "</svg>\n",
              "  </button>\n",
              "\n",
              "<style>\n",
              "  .colab-df-quickchart {\n",
              "      --bg-color: #E8F0FE;\n",
              "      --fill-color: #1967D2;\n",
              "      --hover-bg-color: #E2EBFA;\n",
              "      --hover-fill-color: #174EA6;\n",
              "      --disabled-fill-color: #AAA;\n",
              "      --disabled-bg-color: #DDD;\n",
              "  }\n",
              "\n",
              "  [theme=dark] .colab-df-quickchart {\n",
              "      --bg-color: #3B4455;\n",
              "      --fill-color: #D2E3FC;\n",
              "      --hover-bg-color: #434B5C;\n",
              "      --hover-fill-color: #FFFFFF;\n",
              "      --disabled-bg-color: #3B4455;\n",
              "      --disabled-fill-color: #666;\n",
              "  }\n",
              "\n",
              "  .colab-df-quickchart {\n",
              "    background-color: var(--bg-color);\n",
              "    border: none;\n",
              "    border-radius: 50%;\n",
              "    cursor: pointer;\n",
              "    display: none;\n",
              "    fill: var(--fill-color);\n",
              "    height: 32px;\n",
              "    padding: 0;\n",
              "    width: 32px;\n",
              "  }\n",
              "\n",
              "  .colab-df-quickchart:hover {\n",
              "    background-color: var(--hover-bg-color);\n",
              "    box-shadow: 0 1px 2px rgba(60, 64, 67, 0.3), 0 1px 3px 1px rgba(60, 64, 67, 0.15);\n",
              "    fill: var(--button-hover-fill-color);\n",
              "  }\n",
              "\n",
              "  .colab-df-quickchart-complete:disabled,\n",
              "  .colab-df-quickchart-complete:disabled:hover {\n",
              "    background-color: var(--disabled-bg-color);\n",
              "    fill: var(--disabled-fill-color);\n",
              "    box-shadow: none;\n",
              "  }\n",
              "\n",
              "  .colab-df-spinner {\n",
              "    border: 2px solid var(--fill-color);\n",
              "    border-color: transparent;\n",
              "    border-bottom-color: var(--fill-color);\n",
              "    animation:\n",
              "      spin 1s steps(1) infinite;\n",
              "  }\n",
              "\n",
              "  @keyframes spin {\n",
              "    0% {\n",
              "      border-color: transparent;\n",
              "      border-bottom-color: var(--fill-color);\n",
              "      border-left-color: var(--fill-color);\n",
              "    }\n",
              "    20% {\n",
              "      border-color: transparent;\n",
              "      border-left-color: var(--fill-color);\n",
              "      border-top-color: var(--fill-color);\n",
              "    }\n",
              "    30% {\n",
              "      border-color: transparent;\n",
              "      border-left-color: var(--fill-color);\n",
              "      border-top-color: var(--fill-color);\n",
              "      border-right-color: var(--fill-color);\n",
              "    }\n",
              "    40% {\n",
              "      border-color: transparent;\n",
              "      border-right-color: var(--fill-color);\n",
              "      border-top-color: var(--fill-color);\n",
              "    }\n",
              "    60% {\n",
              "      border-color: transparent;\n",
              "      border-right-color: var(--fill-color);\n",
              "    }\n",
              "    80% {\n",
              "      border-color: transparent;\n",
              "      border-right-color: var(--fill-color);\n",
              "      border-bottom-color: var(--fill-color);\n",
              "    }\n",
              "    90% {\n",
              "      border-color: transparent;\n",
              "      border-bottom-color: var(--fill-color);\n",
              "    }\n",
              "  }\n",
              "</style>\n",
              "\n",
              "  <script>\n",
              "    async function quickchart(key) {\n",
              "      const quickchartButtonEl =\n",
              "        document.querySelector('#' + key + ' button');\n",
              "      quickchartButtonEl.disabled = true;  // To prevent multiple clicks.\n",
              "      quickchartButtonEl.classList.add('colab-df-spinner');\n",
              "      try {\n",
              "        const charts = await google.colab.kernel.invokeFunction(\n",
              "            'suggestCharts', [key], {});\n",
              "      } catch (error) {\n",
              "        console.error('Error during call to suggestCharts:', error);\n",
              "      }\n",
              "      quickchartButtonEl.classList.remove('colab-df-spinner');\n",
              "      quickchartButtonEl.classList.add('colab-df-quickchart-complete');\n",
              "    }\n",
              "    (() => {\n",
              "      let quickchartButtonEl =\n",
              "        document.querySelector('#df-964f61ec-ef84-4374-977c-0d9dbdf5e6ee button');\n",
              "      quickchartButtonEl.style.display =\n",
              "        google.colab.kernel.accessAllowed ? 'block' : 'none';\n",
              "    })();\n",
              "  </script>\n",
              "</div>\n",
              "\n",
              "    </div>\n",
              "  </div>\n"
            ],
            "application/vnd.google.colaboratory.intrinsic+json": {
              "type": "dataframe",
              "summary": "{\n  \"name\": \"vaccination_data[columns_to_display]\",\n  \"rows\": 5,\n  \"fields\": [\n    {\n      \"column\": \"continent\",\n      \"properties\": {\n        \"dtype\": \"string\",\n        \"num_unique_values\": 4,\n        \"samples\": [\n          \"Europe\",\n          \"Oceania\",\n          \"Asia\"\n        ],\n        \"semantic_type\": \"\",\n        \"description\": \"\"\n      }\n    },\n    {\n      \"column\": \"total_cases\",\n      \"properties\": {\n        \"dtype\": \"number\",\n        \"std\": 5784988.0204962995,\n        \"min\": 8359.0,\n        \"max\": 13145380.0,\n        \"num_unique_values\": 5,\n        \"samples\": [\n          13145380.0,\n          8359.0,\n          335047.0\n        ],\n        \"semantic_type\": \"\",\n        \"description\": \"\"\n      }\n    },\n    {\n      \"column\": \"total_deaths\",\n      \"properties\": {\n        \"dtype\": \"number\",\n        \"std\": 113852.63983544694,\n        \"min\": 34.0,\n        \"max\": 259117.0,\n        \"num_unique_values\": 5,\n        \"samples\": [\n          259117.0,\n          34.0,\n          3605.0\n        ],\n        \"semantic_type\": \"\",\n        \"description\": \"\"\n      }\n    },\n    {\n      \"column\": \"total_vaccinations\",\n      \"properties\": {\n        \"dtype\": \"number\",\n        \"std\": null,\n        \"min\": null,\n        \"max\": null,\n        \"num_unique_values\": 0,\n        \"samples\": [],\n        \"semantic_type\": \"\",\n        \"description\": \"\"\n      }\n    },\n    {\n      \"column\": \"population\",\n      \"properties\": {\n        \"dtype\": \"number\",\n        \"std\": 628460652.8666708,\n        \"min\": 44295.0,\n        \"max\": 1426736614.0,\n        \"num_unique_values\": 5,\n        \"samples\": [],\n        \"semantic_type\": \"\",\n        \"description\": \"\"\n      }\n    }\n  ]\n}"
            }
          },
          "metadata": {},
          "execution_count": 7
        }
      ]
    },
    {
      "cell_type": "markdown",
      "source": [
        "## 7. Converting the Pandas DataFrame to a Spark DataFrame\n",
        "\n",
        "Let\\'s convert the Pandas DataFrame, which contains our COVID-19 vaccination data, into a Spark DataFrame. This conversion is crucial as it allows us to utilize Spark\\'s distributed computing capabilities, enabling us to handle larger datasets and perform operations in a more efficient manner.\n",
        "\n",
        "### Defining the schema:\n",
        "- **StructType**:\n",
        "  - A class that defines a structure for a DataFrame.\n",
        "\n",
        "- **StructField**:\n",
        "  - Represents a single field in the schema.\n",
        "  - **Parameters**:\n",
        "    1. **Field name**: The name of the field.\n",
        "    2. **Data type**: The type of data for the field.\n",
        "    3. **Nullable**: A boolean indicating whether null values are allowed.\n",
        "\n",
        "- **Data types**:\n",
        "  - **StringType()**: Used for text fields.\n",
        "  - **LongType()**: Used for numerical fields.\n",
        "\n",
        "### Data type conversion:\n",
        "- **astype(str)**:\n",
        "  - Used to convert the `'continent'` column to string type.\n",
        "\n",
        "- **fillna(0)**:\n",
        "  - Replaces any NaN values with 0, ensuring that the numerical fields do not contain any missing data.\n",
        "\n",
        "- **astype('int64')**:\n",
        "  - Converts the columns from potentially mixed types to 64-bit integers for consistent numerical representation.\n",
        "\n",
        "### Creating a Spark DataFrame:\n",
        "- **createDataFrame**:\n",
        "  - The `createDataFrame` method of the Spark session (`spark`) is called with `vaccination_data` (the Pandas DataFrame) as its argument.\n",
        "  - **Parameters**:\n",
        "    - It takes as input a subset of the pandas DataFrame that corresponds to the fields defined in the schema, accessed using `schema.fieldNames()`.\n",
        "- This function automatically converts the Pandas DataFrame into a Spark DataFrame, which is designed to handle larger data sets across a distributed environment.\n",
        "- The resulting spark_df will have the defined schema, which ensures consistency and compatibility with Spark's data processing capabilities.\n",
        "\n",
        "### Storing the result:\n",
        "\n",
        "\n",
        "\n",
        "\n"
      ],
      "metadata": {
        "id": "Z0qArR1cHXPA"
      }
    },
    {
      "cell_type": "code",
      "source": [
        "# Convert to Spark DataFrame directly\n",
        "# Define the schema\n",
        "schema = StructType([\n",
        "    StructField(\"continent\", StringType(), True),\n",
        "    StructField(\"total_cases\", LongType(), True),\n",
        "    StructField(\"total_deaths\", LongType(), True),\n",
        "    StructField(\"total_vaccinations\", LongType(), True),\n",
        "    StructField(\"population\", LongType(), True)\n",
        "])\n",
        "\n",
        "# Convert the columns to the appropriate data types\n",
        "vaccination_data['continent'] = vaccination_data['continent'].astype(str)  # Ensures continent is a string\n",
        "vaccination_data['total_cases'] = vaccination_data['total_cases'].fillna(0).astype('int64')  # Fill NaNs and convert to int\n",
        "vaccination_data['total_deaths'] = vaccination_data['total_deaths'].fillna(0).astype('int64')  # Fill NaNs and convert to int\n",
        "vaccination_data['total_vaccinations'] = vaccination_data['total_vaccinations'].fillna(0).astype('int64')  # Fill NaNs and convert to int\n",
        "vaccination_data['population'] = vaccination_data['population'].fillna(0).astype('int64')  # Fill NaNs and convert to int\n",
        "\n",
        "spark_df = spark.createDataFrame(vaccination_data[schema.fieldNames()])  # Use only the specified fields\n",
        "# Show the Spark DataFrame\n",
        "spark_df.show()"
      ],
      "metadata": {
        "colab": {
          "base_uri": "https://localhost:8080/"
        },
        "id": "anzLKqRXHjjW",
        "outputId": "904987be-c7b6-445b-f484-d2023f65d00a"
      },
      "execution_count": 8,
      "outputs": [
        {
          "output_type": "stream",
          "name": "stdout",
          "text": [
            "+-------------+-----------+------------+------------------+----------+\n",
            "|    continent|total_cases|total_deaths|total_vaccinations|population|\n",
            "+-------------+-----------+------------+------------------+----------+\n",
            "|         Asia|     235214|        7998|                 0|  41128772|\n",
            "|          nan|   13145380|      259117|                 0|1426736614|\n",
            "|       Europe|     335047|        3605|                 0|   2842318|\n",
            "|       Africa|     272139|        6881|                 0|  44903228|\n",
            "|      Oceania|       8359|          34|                 0|     44295|\n",
            "|       Europe|      48015|         159|                 0|     79843|\n",
            "|       Africa|     107481|        1937|                 0|  35588996|\n",
            "|North America|       3904|          12|                 0|     15877|\n",
            "|North America|       9106|         146|                 0|     93772|\n",
            "|South America|   10101218|      130663|                 0|  45510324|\n",
            "|         Asia|     452273|        8777|                 0|   2780472|\n",
            "|North America|      44224|         292|                 0|    106459|\n",
            "|          nan|  301499099|     1637249|        9104304615|4721383370|\n",
            "|      Oceania|   11861161|       25236|                 0|  26177410|\n",
            "|       Europe|    6082444|       22534|                 0|   8939617|\n",
            "|         Asia|     835757|       10353|                 0|  10358078|\n",
            "|North America|      39127|         849|                 0|    409989|\n",
            "|         Asia|     696614|        1536|                 0|   1472237|\n",
            "|         Asia|    2051348|       29499|                 0| 171186368|\n",
            "|North America|     108582|         593|                 0|    281646|\n",
            "+-------------+-----------+------------+------------------+----------+\n",
            "only showing top 20 rows\n",
            "\n"
          ]
        }
      ]
    },
    {
      "cell_type": "markdown",
      "source": [
        "## 8. Checking the structure of the Spark DataFrame\n",
        "\n",
        "In this section, Let\\'s examine the structure of the Spark DataFrame that we created from the Pandas DataFrame. Understanding the schema of a DataFrame is crucial as it provides insight into the data types of each column and helps ensure that the data is organized correctly for analysis.\n",
        "\n",
        "### Displaying the schema:\n",
        "\n",
        "- The method `spark_df.printSchema()` is called to output the structure of the Spark DataFrame.\n",
        "- This method prints the names of the columns along with their data types (e.g., `StringType`, `IntegerType`, `DoubleType`, etc.), providing a clear view of how the data is organized.\n",
        "\n"
      ],
      "metadata": {
        "id": "w50VEqJtH6yK"
      }
    },
    {
      "cell_type": "code",
      "source": [
        "print(\"Schema of the Spark DataFrame:\")\n",
        "spark_df.printSchema()\n",
        "# Print the structure of the DataFrame (columns and types)"
      ],
      "metadata": {
        "colab": {
          "base_uri": "https://localhost:8080/"
        },
        "id": "ea8iQ4H2H-4a",
        "outputId": "b76c29c2-3b98-4f91-ea57-d4ebd162ff97"
      },
      "execution_count": 9,
      "outputs": [
        {
          "output_type": "stream",
          "name": "stdout",
          "text": [
            "Schema of the Spark DataFrame:\n",
            "root\n",
            " |-- continent: string (nullable = true)\n",
            " |-- total_cases: long (nullable = true)\n",
            " |-- total_deaths: long (nullable = true)\n",
            " |-- total_vaccinations: long (nullable = true)\n",
            " |-- population: long (nullable = true)\n",
            "\n"
          ]
        }
      ]
    },
    {
      "cell_type": "markdown",
      "source": [
        "## 9. Basic data exploration\n",
        "In this section, let\\'s perform basic data exploration on the Spark DataFrame. This step is essential for understanding the data set better, allowing us to gain insights and identify any patterns or anomalies. Let\\'s demonstrate how to view specific contents of the DataFrame, select certain columns, and filter records based on conditions.\n",
        "\n",
        "### 9.1 Viewing DataFrame contents\n",
        "- To view the contents in the DataFrame, use the following code:\n",
        "\n",
        "\n"
      ],
      "metadata": {
        "id": "KbrXBARbIGLJ"
      }
    },
    {
      "cell_type": "code",
      "source": [
        "# List the names of the columns you want to display\n",
        "columns_to_display = ['continent', 'total_cases', 'total_deaths', 'total_vaccinations', 'population']\n",
        "# Display the first 5 records of the specified columns\n",
        "spark_df.select(columns_to_display).show(5)"
      ],
      "metadata": {
        "colab": {
          "base_uri": "https://localhost:8080/"
        },
        "id": "LVVci1JIIOD8",
        "outputId": "9378f03f-d5bc-49bc-fec1-3e95bc72b0ee"
      },
      "execution_count": 10,
      "outputs": [
        {
          "output_type": "stream",
          "name": "stdout",
          "text": [
            "+---------+-----------+------------+------------------+----------+\n",
            "|continent|total_cases|total_deaths|total_vaccinations|population|\n",
            "+---------+-----------+------------+------------------+----------+\n",
            "|     Asia|     235214|        7998|                 0|  41128772|\n",
            "|      nan|   13145380|      259117|                 0|1426736614|\n",
            "|   Europe|     335047|        3605|                 0|   2842318|\n",
            "|   Africa|     272139|        6881|                 0|  44903228|\n",
            "|  Oceania|       8359|          34|                 0|     44295|\n",
            "+---------+-----------+------------+------------------+----------+\n",
            "only showing top 5 rows\n",
            "\n"
          ]
        }
      ]
    },
    {
      "cell_type": "markdown",
      "source": [
        "### 9.2 Picking specific columns\n",
        "- To display only certain columns, use the following code:\n"
      ],
      "metadata": {
        "id": "-N_v0Kj1IS6w"
      }
    },
    {
      "cell_type": "code",
      "source": [
        "print(\"Displaying the 'continent' and 'total_cases' columns:\")\n",
        "# Show only the 'continent' and 'total_cases' columns\n",
        "spark_df.select('continent', 'total_cases').show(5)"
      ],
      "metadata": {
        "colab": {
          "base_uri": "https://localhost:8080/"
        },
        "id": "R8R5WkIiIY6w",
        "outputId": "d60d71f4-59a5-46db-e9ea-ebff90cc987a"
      },
      "execution_count": 11,
      "outputs": [
        {
          "output_type": "stream",
          "name": "stdout",
          "text": [
            "Displaying the 'continent' and 'total_cases' columns:\n",
            "+---------+-----------+\n",
            "|continent|total_cases|\n",
            "+---------+-----------+\n",
            "|     Asia|     235214|\n",
            "|      nan|   13145380|\n",
            "|   Europe|     335047|\n",
            "|   Africa|     272139|\n",
            "|  Oceania|       8359|\n",
            "+---------+-----------+\n",
            "only showing top 5 rows\n",
            "\n"
          ]
        }
      ]
    },
    {
      "cell_type": "markdown",
      "source": [
        "### 9.3 Sifting Through Data\n",
        "- To filter records based on a specific condition, use the following code:\n"
      ],
      "metadata": {
        "id": "6pv2Q9n5IcMJ"
      }
    },
    {
      "cell_type": "code",
      "source": [
        "print(\"Filtering records where 'total_cases' is greater than 1,000,000:\")\n",
        " # Show records with more than 1 million total cases\n",
        "spark_df.filter(spark_df['total_cases'] > 1000000).show(5)"
      ],
      "metadata": {
        "colab": {
          "base_uri": "https://localhost:8080/"
        },
        "id": "aso0ouseIj_s",
        "outputId": "1460e7ec-5879-4464-e0b1-cca62bc078b7"
      },
      "execution_count": 12,
      "outputs": [
        {
          "output_type": "stream",
          "name": "stdout",
          "text": [
            "Filtering records where 'total_cases' is greater than 1,000,000:\n",
            "+-------------+-----------+------------+------------------+----------+\n",
            "|    continent|total_cases|total_deaths|total_vaccinations|population|\n",
            "+-------------+-----------+------------+------------------+----------+\n",
            "|          nan|   13145380|      259117|                 0|1426736614|\n",
            "|South America|   10101218|      130663|                 0|  45510324|\n",
            "|          nan|  301499099|     1637249|        9104304615|4721383370|\n",
            "|      Oceania|   11861161|       25236|                 0|  26177410|\n",
            "|       Europe|    6082444|       22534|                 0|   8939617|\n",
            "+-------------+-----------+------------+------------------+----------+\n",
            "only showing top 5 rows\n",
            "\n"
          ]
        }
      ]
    },
    {
      "cell_type": "markdown",
      "source": [
        "## 10. Working with columns\n",
        "\n",
        "In this section, let\\'s create a new column called `death_percentage`, which calculates the death rate during the COVID-19 pandemic. This calculation is based on the total_deaths (the count of deaths) and the population (the total population) columns in our Spark DataFrame. This new metric will provide valuable insight into the impact of COVID-19 in different regions.\n",
        "\n",
        "### Calculating the death percentage:\n",
        "- Let\\'s import the functions module from `pyspark.sql` as `F`, which contains built-in functions for DataFrame operations.\n",
        "\n",
        "- Let\\'s create a new DataFrame `spark_df_with_percentage` by using the `withColumn()` method to add a new column called `death_percentage`.\n",
        "- The formula `(spark_df['total_deaths'] / spark_df['population']) * 100` computes the death percentage by dividing the total deaths by the total population and multiplying by 100.\n",
        "\n",
        "### Formatting the percentage:\n",
        "- Let\\'s update the `death_percentage` column to format its values to two decimal places using `F.format_number()`, and concatenate a percentage symbol using `F.concat()` and `F.lit('%')`.\n",
        "- This makes the death percentage easier to read and interpret.\n",
        "\n",
        "### Selecting relevant columns:\n",
        "- Let\\'s define a list `columns_to_display` that includes `'total_deaths', 'population', 'death_percentage', 'continent', 'total_vaccinations', and 'total_cases'`.\n",
        "- Finally, let's display the first five records of the modified DataFrame with the new column by calling `spark_df_with_percentage.select(columns_to_display).show(5)`.\n",
        "\n"
      ],
      "metadata": {
        "id": "1mDKQ6ifIl4n"
      }
    },
    {
      "cell_type": "code",
      "source": [
        "from pyspark.sql import functions as F\n",
        "\n",
        "spark_df_with_percentage = spark_df.withColumn(\n",
        "    'death_percentage',\n",
        "    (spark_df['total_deaths'] / spark_df['population']) * 100\n",
        ")\n",
        "spark_df_with_percentage = spark_df_with_percentage.withColumn(\n",
        "    'death_percentage',\n",
        "    F.concat(\n",
        "        # Format to 2 decimal places\n",
        "        F.format_number(spark_df_with_percentage['death_percentage'], 2),\n",
        "        # Append the percentage symbol\n",
        "        F.lit('%')\n",
        "    )\n",
        ")\n",
        "columns_to_display = ['total_deaths', 'population', 'death_percentage', 'continent', 'total_vaccinations', 'total_cases']\n",
        "spark_df_with_percentage.select(columns_to_display).show(5)"
      ],
      "metadata": {
        "colab": {
          "base_uri": "https://localhost:8080/"
        },
        "id": "1DhAwM9vI0zr",
        "outputId": "090264b7-86c2-4140-ce80-ef5eb67afa65"
      },
      "execution_count": 13,
      "outputs": [
        {
          "output_type": "stream",
          "name": "stdout",
          "text": [
            "+------------+----------+----------------+---------+------------------+-----------+\n",
            "|total_deaths|population|death_percentage|continent|total_vaccinations|total_cases|\n",
            "+------------+----------+----------------+---------+------------------+-----------+\n",
            "|        7998|  41128772|           0.02%|     Asia|                 0|     235214|\n",
            "|      259117|1426736614|           0.02%|      nan|                 0|   13145380|\n",
            "|        3605|   2842318|           0.13%|   Europe|                 0|     335047|\n",
            "|        6881|  44903228|           0.02%|   Africa|                 0|     272139|\n",
            "|          34|     44295|           0.08%|  Oceania|                 0|       8359|\n",
            "+------------+----------+----------------+---------+------------------+-----------+\n",
            "only showing top 5 rows\n",
            "\n"
          ]
        }
      ]
    },
    {
      "cell_type": "markdown",
      "source": [
        "## 11. Grouping and summarizing\n",
        " Let\\'s calculate the total number of deaths per continent using the data in our Spark DataFrame. Grouping and summarizing data is a crucial aspect of data analysis, as it allows us to aggregate information and identify trends across different categories.\n",
        "\n",
        "### Grouping the data\n",
        "The `spark_df.groupby(['continent'])` method groups the data by the `continent` column. This means that all records associated with each continent will be aggregated together.\n",
        "\n",
        "### Aggregating the deaths\n",
        "The `agg({\"total_deaths\": \"SUM\"})` function is used to specify the aggregation operation. In this case, we want to calculate the sum of the `total_deaths` for each continent. This operation will create a new DataFrame where each continent is listed alongside the total number of deaths attributed to it.\n",
        "\n",
        "### Displaying the results\n",
        "The `show()` method is called to display the results of the aggregation. This will output the total number of deaths for each continent in a tabular format.\n",
        "\n"
      ],
      "metadata": {
        "id": "x9-cLrfUI5oE"
      }
    },
    {
      "cell_type": "code",
      "source": [
        "print(\"Calculating the total deaths per continent:\")\n",
        "# Group by continent and sum total death rates\n",
        "spark_df.groupby(['continent']).agg({\"total_deaths\": \"SUM\"}).show()"
      ],
      "metadata": {
        "colab": {
          "base_uri": "https://localhost:8080/"
        },
        "id": "gZn7lolUJFeJ",
        "outputId": "06f2fd1a-11a4-4d52-cbcb-4ad858df2157"
      },
      "execution_count": 14,
      "outputs": [
        {
          "output_type": "stream",
          "name": "stdout",
          "text": [
            "Calculating the total deaths per continent:\n",
            "+-------------+-----------------+\n",
            "|    continent|sum(total_deaths)|\n",
            "+-------------+-----------------+\n",
            "|       Europe|          2102483|\n",
            "|       Africa|           259117|\n",
            "|          nan|         22430618|\n",
            "|North America|          1671178|\n",
            "|South America|          1354187|\n",
            "|      Oceania|            32918|\n",
            "|         Asia|          1637249|\n",
            "+-------------+-----------------+\n",
            "\n"
          ]
        }
      ]
    },
    {
      "cell_type": "markdown",
      "source": [
        "## 12. Exploring user-defined functions (UDFs)\n",
        "\n",
        "\n",
        "UDFs in PySpark allow us to create custom functions that can be applied to individual columns within a DataFrame. This feature provides increased flexibility and customization in data processing, enabling us to define specific transformations or calculations that are not available through built-in functions. In this section, let\\'s define a UDF to convert total deaths in the dataset.\n",
        "\n",
        "### Importing pandas_udf\n",
        "The `pandas_udf` function is imported from `pyspark.sql.functions`. This decorator allows us to define a UDF that operates on Pandas Series\n",
        "\n",
        "### Defining the UDF\n",
        "This function `convert_total_deaths()` takes in a parameter `total_deaths` and returns double its value. You can replace the logic with any transformation you want to apply to the column data.\n",
        "\n",
        "### Registering the UDF\n",
        "The line `spark.udf.register(\"convert_total_deaths\", convert_total_deaths, IntegerType())` registers the UDF with Spark indicating that the function returns an integer, allowing us to use it in Spark SQL queries and DataFrame operations.\n",
        "\n"
      ],
      "metadata": {
        "id": "DPhc_UU4JKRR"
      }
    },
    {
      "cell_type": "code",
      "source": [
        "from pyspark.sql import SparkSession\n",
        "from pyspark.sql.types import IntegerType\n",
        "# Function definition\n",
        "def convert_total_deaths(total_deaths):\n",
        "    return total_deaths * 2\n",
        "# Here you can define any transformation you want\n",
        "# Register the UDF with Spark\n",
        "spark.udf.register(\"convert_total_deaths\", convert_total_deaths, IntegerType())"
      ],
      "metadata": {
        "colab": {
          "base_uri": "https://localhost:8080/",
          "height": 104
        },
        "id": "7T-jcpSfJWyW",
        "outputId": "410a38f3-83ce-4e93-c175-3585f5d5b57e"
      },
      "execution_count": 15,
      "outputs": [
        {
          "output_type": "execute_result",
          "data": {
            "text/plain": [
              "<function __main__.convert_total_deaths(total_deaths)>"
            ],
            "text/html": [
              "<div style=\"max-width:800px; border: 1px solid var(--colab-border-color);\"><style>\n",
              "      pre.function-repr-contents {\n",
              "        overflow-x: auto;\n",
              "        padding: 8px 12px;\n",
              "        max-height: 500px;\n",
              "      }\n",
              "\n",
              "      pre.function-repr-contents.function-repr-contents-collapsed {\n",
              "        cursor: pointer;\n",
              "        max-height: 100px;\n",
              "      }\n",
              "    </style>\n",
              "    <pre style=\"white-space: initial; background:\n",
              "         var(--colab-secondary-surface-color); padding: 8px 12px;\n",
              "         border-bottom: 1px solid var(--colab-border-color);\"><b>convert_total_deaths</b><br/>def convert_total_deaths(total_deaths)</pre><pre class=\"function-repr-contents function-repr-contents-collapsed\" style=\"\"><a class=\"filepath\" style=\"display:none\" href=\"#\">/content/&lt;ipython-input-15-5f96d5358b6e&gt;</a>&lt;no docstring&gt;</pre></div>"
            ]
          },
          "metadata": {},
          "execution_count": 15
        }
      ]
    },
    {
      "cell_type": "markdown",
      "source": [
        "## 13. Using Spark SQL\n",
        "Spark SQL enables us to execute SQL queries directly on DataFrames.\n"
      ],
      "metadata": {
        "id": "g7Ov5kBSJZoR"
      }
    },
    {
      "cell_type": "code",
      "source": [
        "# Drop the existing temporary view if it exists\n",
        "spark.sql(\"DROP VIEW IF EXISTS data_v\")\n",
        "\n",
        "# Create a new temporary view\n",
        "spark_df.createTempView('data_v')\n",
        "\n",
        "# Execute the SQL query using the UDF\n",
        "spark.sql('SELECT continent, total_deaths, convert_total_deaths(total_deaths) as converted_total_deaths FROM data_v').show()"
      ],
      "metadata": {
        "colab": {
          "base_uri": "https://localhost:8080/"
        },
        "id": "YqJDQiJNJbXE",
        "outputId": "d3e61d58-8f1b-439a-9156-d7d9ab198d34"
      },
      "execution_count": 16,
      "outputs": [
        {
          "output_type": "stream",
          "name": "stdout",
          "text": [
            "+-------------+------------+----------------------+\n",
            "|    continent|total_deaths|converted_total_deaths|\n",
            "+-------------+------------+----------------------+\n",
            "|         Asia|        7998|                 15996|\n",
            "|          nan|      259117|                518234|\n",
            "|       Europe|        3605|                  7210|\n",
            "|       Africa|        6881|                 13762|\n",
            "|      Oceania|          34|                    68|\n",
            "|       Europe|         159|                   318|\n",
            "|       Africa|        1937|                  3874|\n",
            "|North America|          12|                    24|\n",
            "|North America|         146|                   292|\n",
            "|South America|      130663|                261326|\n",
            "|         Asia|        8777|                 17554|\n",
            "|North America|         292|                   584|\n",
            "|          nan|     1637249|               3274498|\n",
            "|      Oceania|       25236|                 50472|\n",
            "|       Europe|       22534|                 45068|\n",
            "|         Asia|       10353|                 20706|\n",
            "|North America|         849|                  1698|\n",
            "|         Asia|        1536|                  3072|\n",
            "|         Asia|       29499|                 58998|\n",
            "|North America|         593|                  1186|\n",
            "+-------------+------------+----------------------+\n",
            "only showing top 20 rows\n",
            "\n"
          ]
        }
      ]
    },
    {
      "cell_type": "markdown",
      "source": [
        "## 14. Running SQL queries\n",
        "In this step, let\\'s execute SQL queries to retrieve specific records from the temporary view which was created earlier. Let\\'s demonstrate how to display all records from the data table and filter those records based on vaccination totals. This capability allows for efficient data exploration and analysis using SQL syntax.\n",
        "\n",
        "## Displaying All Records\n",
        "The first query retrieves all records from the temporary view data using the SQL command SELECT * FROM data_v. The show() method is called to display the results in a tabular format. This is useful for getting an overview of the entire dataset.\n"
      ],
      "metadata": {
        "id": "6vSG4I1DJewX"
      }
    },
    {
      "cell_type": "code",
      "source": [
        "spark.sql('SELECT * FROM data_v').show()"
      ],
      "metadata": {
        "colab": {
          "base_uri": "https://localhost:8080/"
        },
        "id": "QKs6uelhJj7O",
        "outputId": "6e1c226a-e5be-44d3-c526-e3833b3fd09e"
      },
      "execution_count": 17,
      "outputs": [
        {
          "output_type": "stream",
          "name": "stdout",
          "text": [
            "+-------------+-----------+------------+------------------+----------+\n",
            "|    continent|total_cases|total_deaths|total_vaccinations|population|\n",
            "+-------------+-----------+------------+------------------+----------+\n",
            "|         Asia|     235214|        7998|                 0|  41128772|\n",
            "|          nan|   13145380|      259117|                 0|1426736614|\n",
            "|       Europe|     335047|        3605|                 0|   2842318|\n",
            "|       Africa|     272139|        6881|                 0|  44903228|\n",
            "|      Oceania|       8359|          34|                 0|     44295|\n",
            "|       Europe|      48015|         159|                 0|     79843|\n",
            "|       Africa|     107481|        1937|                 0|  35588996|\n",
            "|North America|       3904|          12|                 0|     15877|\n",
            "|North America|       9106|         146|                 0|     93772|\n",
            "|South America|   10101218|      130663|                 0|  45510324|\n",
            "|         Asia|     452273|        8777|                 0|   2780472|\n",
            "|North America|      44224|         292|                 0|    106459|\n",
            "|          nan|  301499099|     1637249|        9104304615|4721383370|\n",
            "|      Oceania|   11861161|       25236|                 0|  26177410|\n",
            "|       Europe|    6082444|       22534|                 0|   8939617|\n",
            "|         Asia|     835757|       10353|                 0|  10358078|\n",
            "|North America|      39127|         849|                 0|    409989|\n",
            "|         Asia|     696614|        1536|                 0|   1472237|\n",
            "|         Asia|    2051348|       29499|                 0| 171186368|\n",
            "|North America|     108582|         593|                 0|    281646|\n",
            "+-------------+-----------+------------+------------------+----------+\n",
            "only showing top 20 rows\n",
            "\n"
          ]
        }
      ]
    },
    {
      "cell_type": "markdown",
      "source": [
        "### Filtering records\n",
        "The second query is designed to filter the data set to show only those continents where the total vaccinations exceed 1 million. The SQL command used here is `SELECT continent FROM data_v WHERE total_vaccinations > 1000000`. The `show()` method is again used to display the results, specifically listing the continents that meet the filter criteria.\n"
      ],
      "metadata": {
        "id": "rHnN3oBpJmT9"
      }
    },
    {
      "cell_type": "code",
      "source": [
        "print(\"Displaying continent with total vaccinated more than 1 million:\")\n",
        "# SQL filtering\n",
        "spark.sql(\"SELECT continent FROM data_v WHERE total_vaccinations > 1000000\").show()"
      ],
      "metadata": {
        "colab": {
          "base_uri": "https://localhost:8080/"
        },
        "id": "YFq31oD5Joz6",
        "outputId": "dfd1a6ae-2024-47c3-c6b3-27e77ff7fe55"
      },
      "execution_count": 18,
      "outputs": [
        {
          "output_type": "stream",
          "name": "stdout",
          "text": [
            "Displaying continent with total vaccinated more than 1 million:\n",
            "+-------------+\n",
            "|    continent|\n",
            "+-------------+\n",
            "|          nan|\n",
            "|North America|\n",
            "|       Europe|\n",
            "|       Europe|\n",
            "|          nan|\n",
            "|          nan|\n",
            "|          nan|\n",
            "|         Asia|\n",
            "|         Asia|\n",
            "|       Europe|\n",
            "|          nan|\n",
            "|         Asia|\n",
            "|      Oceania|\n",
            "|          nan|\n",
            "|          nan|\n",
            "|          nan|\n",
            "|          nan|\n",
            "+-------------+\n",
            "\n"
          ]
        }
      ]
    }
  ]
}